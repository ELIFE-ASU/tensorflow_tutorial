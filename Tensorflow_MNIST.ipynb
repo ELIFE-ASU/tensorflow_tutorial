{
 "cells": [
  {
   "cell_type": "code",
   "execution_count": 1,
   "metadata": {},
   "outputs": [],
   "source": [
    "import tensorflow as tf\n",
    "import numpy as np\n",
    "import time\n",
    "import matplotlib.pyplot as plt\n",
    "%matplotlib inline"
   ]
  },
  {
   "cell_type": "raw",
   "metadata": {},
   "source": [
    "tf.logging.set_verbosity(tf.logging.INFO)"
   ]
  },
  {
   "cell_type": "markdown",
   "metadata": {},
   "source": [
    "## Download Data"
   ]
  },
  {
   "cell_type": "code",
   "execution_count": 2,
   "metadata": {},
   "outputs": [],
   "source": [
    "train, test = tf.keras.datasets.mnist.load_data()"
   ]
  },
  {
   "cell_type": "code",
   "execution_count": 3,
   "metadata": {},
   "outputs": [
    {
     "data": {
      "text/plain": [
       "(tuple, 2)"
      ]
     },
     "execution_count": 3,
     "metadata": {},
     "output_type": "execute_result"
    }
   ],
   "source": [
    "type(train), len(train)"
   ]
  },
  {
   "cell_type": "code",
   "execution_count": 4,
   "metadata": {},
   "outputs": [],
   "source": [
    "train_x, train_y = train\n",
    "test_x, test_y = test"
   ]
  },
  {
   "cell_type": "code",
   "execution_count": 5,
   "metadata": {},
   "outputs": [
    {
     "data": {
      "text/plain": [
       "((60000, 28, 28), (60000,))"
      ]
     },
     "execution_count": 5,
     "metadata": {},
     "output_type": "execute_result"
    }
   ],
   "source": [
    "train_x.shape, train_y.shape"
   ]
  },
  {
   "cell_type": "code",
   "execution_count": 6,
   "metadata": {},
   "outputs": [],
   "source": [
    "train_x = np.asarray(train_x, dtype=float)\n",
    "train_y = np.asarray(train_y, dtype=int)\n",
    "test_x = np.asarray(test_x, dtype=float)\n",
    "test_y = np.asarray(test_y, dtype=int)"
   ]
  },
  {
   "cell_type": "markdown",
   "metadata": {},
   "source": [
    "### Sample data"
   ]
  },
  {
   "cell_type": "code",
   "execution_count": 7,
   "metadata": {},
   "outputs": [
    {
     "data": {
      "image/png": "[encoded data removed]",
      "text/plain": [
       "<Figure size 432x288 with 25 Axes>"
      ]
     },
     "metadata": {},
     "output_type": "display_data"
    },
    {
     "name": "stdout",
     "output_type": "stream",
     "text": [
      "[[5 0 4 1 9]\n",
      " [2 1 3 1 4]\n",
      " [3 5 3 6 1]\n",
      " [7 2 8 6 9]\n",
      " [4 0 9 1 1]]\n"
     ]
    }
   ],
   "source": [
    "nx, ny = 5, 5\n",
    "fig, ax = plt.subplots(ny, nx)\n",
    "fig.subplots_adjust(wspace=-0.7, hspace=0.1)\n",
    "for i in range(ny):\n",
    "    for j in range(nx):\n",
    "        ax[i][j].imshow(train_x[ny*i+j], cmap='gray')\n",
    "        ax[i][j].axis('off')\n",
    "\n",
    "plt.show()        \n",
    "print(np.reshape(train_y[:nx * ny], [nx, ny]))"
   ]
  },
  {
   "cell_type": "markdown",
   "metadata": {},
   "source": [
    "# Neural Network"
   ]
  },
  {
   "cell_type": "markdown",
   "metadata": {},
   "source": [
    "![Neural Network](nn.gif)"
   ]
  },
  {
   "cell_type": "markdown",
   "metadata": {},
   "source": [
    "### Dense Neural Network"
   ]
  },
  {
   "cell_type": "code",
   "execution_count": 8,
   "metadata": {},
   "outputs": [],
   "source": [
    "def build_dnn(input_size, hidden_layers, output_size):\n",
    "    x = tf.placeholder(tf.float32, shape=[None, input_size])\n",
    "    y_ = tf.placeholder(tf.int64, shape=(None,))\n",
    "    prev_size = input_size\n",
    "    \n",
    "    h = x\n",
    "    for i, layer_size in enumerate(hidden_layers):\n",
    "        with tf.name_scope(\"hidden{}\".format(i)):\n",
    "            W = tf.Variable(tf.truncated_normal([prev_size, layer_size]), name=\"W\")\n",
    "            b = tf.Variable(tf.zeros([layer_size]), name=\"b\")\n",
    "            \n",
    "            h = tf.nn.relu(tf.matmul(h, W) + b)\n",
    "            \n",
    "        prev_size = layer_size\n",
    "    \n",
    "    with tf.name_scope(\"fc_out\"):\n",
    "        W = tf.Variable(tf.truncated_normal([prev_size, output_size]), name=\"W\")\n",
    "        b = tf.Variable(tf.zeros([output_size]), name=\"b\")\n",
    "        \n",
    "        logits = tf.matmul(h, W) + b\n",
    "        \n",
    "    return x, logits, y_"
   ]
  },
  {
   "cell_type": "code",
   "execution_count": 17,
   "metadata": {},
   "outputs": [],
   "source": [
    "def data_batches(features, labels, batch_size, shuffle=False):\n",
    "    if shuffle:\n",
    "        perm = np.random.permutation(len(features))\n",
    "        features = features[perm]\n",
    "        labels = labels[perm]\n",
    "        \n",
    "    if batch_size is None:\n",
    "        batch_size = len(features)\n",
    "    i = 0\n",
    "    while i < len(features):\n",
    "        yield features[i:i+batch_size], labels[i:i+batch_size]\n",
    "        i += batch_size"
   ]
  },
  {
   "cell_type": "code",
   "execution_count": 13,
   "metadata": {},
   "outputs": [],
   "source": [
    "tf.reset_default_graph()\n",
    "\n",
    "x, logits, y_ = build_dnn(28*28, [2000, 2000], 10)\n",
    "\n",
    "loss = tf.losses.sparse_softmax_cross_entropy(labels=y_, logits=logits)\n",
    "train_op = tf.train.AdamOptimizer(1e-4).minimize(loss)\n",
    "\n",
    "prediction = tf.argmax(logits, 1)\n",
    "accuracy = tf.reduce_mean(tf.cast(tf.equal(prediction, y_), tf.float32))"
   ]
  },
  {
   "cell_type": "code",
   "execution_count": 15,
   "metadata": {},
   "outputs": [],
   "source": [
    "sess = tf.Session()\n",
    "writer = tf.summary.FileWriter(\"mnist_dnn_raw\")\n",
    "\n",
    "writer.add_graph(sess.graph)\n"
   ]
  },
  {
   "cell_type": "code",
   "execution_count": 18,
   "metadata": {},
   "outputs": [
    {
     "name": "stdout",
     "output_type": "stream",
     "text": [
      "Step 1 (1.635s), loss: 1894798.125, test accuracy: 0.14880000054836273 \t \n",
      "Step 100 (43.447s), loss: 323682.53125, test accuracy: 0.5940999984741211 \t \n",
      "Step 200 (42.659s), loss: 181414.015625, test accuracy: 0.7330999970436096 \t \n",
      "Step 300 (40.259s), loss: 133026.546875, test accuracy: 0.7910000085830688 \t \n",
      "Step 400 (39.812s), loss: 104469.0, test accuracy: 0.8263999819755554 \t \n",
      "Step 500 (40.672s), loss: 84742.4765625, test accuracy: 0.8447999954223633 \t \n",
      "Step 600 (42.572s), loss: 69700.703125, test accuracy: 0.8593999743461609 \t \n"
     ]
    },
    {
     "ename": "KeyboardInterrupt",
     "evalue": "",
     "output_type": "error",
     "traceback": [
      "\u001b[0;31m---------------------------------------------------------------------------\u001b[0m",
      "\u001b[0;31mKeyboardInterrupt\u001b[0m                         Traceback (most recent call last)",
      "\u001b[0;32m<ipython-input-18-a0f76d829141>\u001b[0m in \u001b[0;36m<module>\u001b[0;34m()\u001b[0m\n\u001b[1;32m     18\u001b[0m \u001b[0;34m\u001b[0m\u001b[0m\n\u001b[1;32m     19\u001b[0m     \u001b[0mtrain_data_batches\u001b[0m \u001b[0;34m=\u001b[0m \u001b[0mdata_batches\u001b[0m\u001b[0;34m(\u001b[0m\u001b[0mtrain_x\u001b[0m\u001b[0;34m,\u001b[0m \u001b[0mtrain_y\u001b[0m\u001b[0;34m,\u001b[0m \u001b[0mbatch_size\u001b[0m\u001b[0;34m=\u001b[0m\u001b[0;32mNone\u001b[0m\u001b[0;34m,\u001b[0m \u001b[0mshuffle\u001b[0m\u001b[0;34m=\u001b[0m\u001b[0;32mTrue\u001b[0m\u001b[0;34m)\u001b[0m\u001b[0;34m\u001b[0m\u001b[0m\n\u001b[0;32m---> 20\u001b[0;31m     \u001b[0;32mfor\u001b[0m \u001b[0mbatch_x\u001b[0m\u001b[0;34m,\u001b[0m \u001b[0mbatch_y\u001b[0m \u001b[0;32min\u001b[0m \u001b[0mtrain_data_batches\u001b[0m\u001b[0;34m:\u001b[0m\u001b[0;34m\u001b[0m\u001b[0m\n\u001b[0m\u001b[1;32m     21\u001b[0m         \u001b[0msess\u001b[0m\u001b[0;34m.\u001b[0m\u001b[0mrun\u001b[0m\u001b[0;34m(\u001b[0m\u001b[0mtrain_op\u001b[0m\u001b[0;34m,\u001b[0m \u001b[0mfeed_dict\u001b[0m\u001b[0;34m=\u001b[0m\u001b[0;34m{\u001b[0m\u001b[0mx\u001b[0m\u001b[0;34m:\u001b[0m \u001b[0mnp\u001b[0m\u001b[0;34m.\u001b[0m\u001b[0mreshape\u001b[0m\u001b[0;34m(\u001b[0m\u001b[0mbatch_x\u001b[0m\u001b[0;34m[\u001b[0m\u001b[0;34m:\u001b[0m\u001b[0;36m300\u001b[0m\u001b[0;34m]\u001b[0m\u001b[0;34m,\u001b[0m \u001b[0;34m[\u001b[0m\u001b[0;34m-\u001b[0m\u001b[0;36m1\u001b[0m\u001b[0;34m,\u001b[0m \u001b[0;36m28\u001b[0m\u001b[0;34m*\u001b[0m\u001b[0;36m28\u001b[0m\u001b[0;34m]\u001b[0m\u001b[0;34m)\u001b[0m\u001b[0;34m,\u001b[0m \u001b[0my_\u001b[0m\u001b[0;34m:\u001b[0m \u001b[0mbatch_y\u001b[0m\u001b[0;34m[\u001b[0m\u001b[0;34m:\u001b[0m\u001b[0;36m300\u001b[0m\u001b[0;34m]\u001b[0m\u001b[0;34m}\u001b[0m\u001b[0;34m)\u001b[0m\u001b[0;34m\u001b[0m\u001b[0m\n\u001b[1;32m     22\u001b[0m \u001b[0;34m\u001b[0m\u001b[0m\n",
      "\u001b[0;32m<ipython-input-17-11a0677430b2>\u001b[0m in \u001b[0;36mdata_batches\u001b[0;34m(features, labels, batch_size, shuffle)\u001b[0m\n\u001b[1;32m      2\u001b[0m     \u001b[0;32mif\u001b[0m \u001b[0mshuffle\u001b[0m\u001b[0;34m:\u001b[0m\u001b[0;34m\u001b[0m\u001b[0m\n\u001b[1;32m      3\u001b[0m         \u001b[0mperm\u001b[0m \u001b[0;34m=\u001b[0m \u001b[0mnp\u001b[0m\u001b[0;34m.\u001b[0m\u001b[0mrandom\u001b[0m\u001b[0;34m.\u001b[0m\u001b[0mpermutation\u001b[0m\u001b[0;34m(\u001b[0m\u001b[0mlen\u001b[0m\u001b[0;34m(\u001b[0m\u001b[0mfeatures\u001b[0m\u001b[0;34m)\u001b[0m\u001b[0;34m)\u001b[0m\u001b[0;34m\u001b[0m\u001b[0m\n\u001b[0;32m----> 4\u001b[0;31m         \u001b[0mfeatures\u001b[0m \u001b[0;34m=\u001b[0m \u001b[0mfeatures\u001b[0m\u001b[0;34m[\u001b[0m\u001b[0mperm\u001b[0m\u001b[0;34m]\u001b[0m\u001b[0;34m\u001b[0m\u001b[0m\n\u001b[0m\u001b[1;32m      5\u001b[0m         \u001b[0mlabels\u001b[0m \u001b[0;34m=\u001b[0m \u001b[0mlabels\u001b[0m\u001b[0;34m[\u001b[0m\u001b[0mperm\u001b[0m\u001b[0;34m]\u001b[0m\u001b[0;34m\u001b[0m\u001b[0m\n\u001b[1;32m      6\u001b[0m \u001b[0;34m\u001b[0m\u001b[0m\n",
      "\u001b[0;31mKeyboardInterrupt\u001b[0m: "
     ]
    }
   ],
   "source": [
    "\n",
    "\n",
    "sess.run(tf.global_variables_initializer())\n",
    "start_time = time.time()\n",
    "for step in range(2000):\n",
    "    if (step + 1) % 100 == 0 or step == 0:\n",
    "        test_accuracy = sess.run(accuracy, feed_dict={x: np.reshape(test_x, [-1, 28*28]), y_: test_y})\n",
    "        train_loss = sess.run(loss, feed_dict={x: np.reshape(train_x[:300], [-1, 28*28]), y_: train_y[:300]})\n",
    "        \n",
    "        writer.add_summary(tf.Summary(value=[tf.Summary.Value(tag=\"test_accuracy\", simple_value=test_accuracy),\n",
    "                                             tf.Summary.Value(tag=\"train_loss\", simple_value=train_loss)]),\n",
    "                           step)\n",
    "        \n",
    "        dtime = time.time() - start_time\n",
    "        start_time = time.time()\n",
    "        print(\"Step {} ({:.3f}s), loss: {}, test accuracy: {} \\t \".format(\n",
    "                step+1, dtime, train_loss, test_accuracy))\n",
    "        \n",
    "    train_data_batches = data_batches(train_x, train_y, batch_size=None, shuffle=True)\n",
    "    for batch_x, batch_y in train_data_batches:\n",
    "        sess.run(train_op, feed_dict={x: np.reshape(batch_x[:300], [-1, 28*28]), y_: batch_y[:300]})\n",
    "        \n",
    "writer.close()"
   ]
  },
  {
   "cell_type": "code",
   "execution_count": 19,
   "metadata": {},
   "outputs": [
    {
     "data": {
      "image/png": "[encoded data removed]",
      "text/plain": [
       "<Figure size 432x288 with 25 Axes>"
      ]
     },
     "metadata": {},
     "output_type": "display_data"
    },
    {
     "name": "stdout",
     "output_type": "stream",
     "text": [
      "[[7 2 1 0 4]\n",
      " [1 4 9 2 9]\n",
      " [0 6 9 0 1]\n",
      " [8 9 7 8 4]\n",
      " [9 6 4 5 4]]\n"
     ]
    }
   ],
   "source": [
    "nx, ny = 5, 5\n",
    "fig, ax = plt.subplots(ny, nx)\n",
    "fig.subplots_adjust(wspace=-0.7, hspace=0.1)\n",
    "for i in range(ny):\n",
    "    for j in range(nx):\n",
    "        ax[i][j].imshow(test_x[ny*i+j], cmap='gray')\n",
    "        ax[i][j].axis('off')\n",
    "\n",
    "plt.show()   \n",
    "\n",
    "predicted = sess.run(prediction, feed_dict={x: np.reshape(test_x[:nx*ny], [-1, 28*28])})\n",
    "print(np.reshape(predicted, [nx, ny]))"
   ]
  },
  {
   "cell_type": "code",
   "execution_count": 63,
   "metadata": {},
   "outputs": [],
   "source": [
    "sess.close()"
   ]
  },
  {
   "cell_type": "markdown",
   "metadata": {},
   "source": [
    "# Convolution Neural Network"
   ]
  },
  {
   "cell_type": "markdown",
   "metadata": {},
   "source": [
    "[Convolution Animation](https://github.com/vdumoulin/conv_arithmetic/blob/master/README.md)"
   ]
  },
  {
   "cell_type": "code",
   "execution_count": 15,
   "metadata": {},
   "outputs": [],
   "source": [
    "def build_cnn(input_size, channels, fc_layers, output_size):\n",
    "    x = tf.placeholder(tf.float32, shape=[None, input_size, input_size])\n",
    "    y_ = tf.placeholder(tf.int64, shape=[None])\n",
    "    \n",
    "    with tf.name_scope('reshape'):\n",
    "        x_image = tf.reshape(x, [-1, input_size, input_size, 1])\n",
    "    \n",
    "    prev = x_image\n",
    "    prev_c = 1\n",
    "    for i, c in enumerate(channels):\n",
    "        with tf.name_scope('conv{}'.format(i)):\n",
    "            W_conv = tf.Variable(tf.truncated_normal([3, 3, prev_c, c]))\n",
    "            h_conv = tf.nn.relu(tf.nn.conv2d(prev, W_conv, strides=[1, 1, 1, 1], padding='SAME'))\n",
    "        \n",
    "        with tf.name_scope('pool{}'.format(i)):\n",
    "            h_pool = tf.nn.max_pool(h_conv, ksize=[1, 2, 2, 1], strides=[1, 2, 2, 1], padding='SAME')\n",
    "            \n",
    "        prev = h_pool\n",
    "        prev_c = c\n",
    "    \n",
    "    h = tf.contrib.layers.flatten(h_pool)\n",
    "    prev_size = h.get_shape().as_list()[1]\n",
    "    for i, layer_size in enumerate(fc_layers):\n",
    "        with tf.name_scope(\"fc{}\".format(i)):\n",
    "            W = tf.Variable(tf.truncated_normal([prev_size, layer_size]), name=\"W\")\n",
    "            b = tf.Variable(tf.zeros([layer_size]), name=\"b\")\n",
    "            \n",
    "            h = tf.nn.relu(tf.matmul(h, W) + b)\n",
    "            \n",
    "        prev_size = layer_size\n",
    "        \n",
    "    with tf.name_scope(\"fc_out\"):\n",
    "        W = tf.Variable(tf.truncated_normal([prev_size, output_size]), name=\"W\")\n",
    "        b = tf.Variable(tf.zeros([output_size]), name=\"b\")\n",
    "        \n",
    "        logits = tf.matmul(h, W) + b\n",
    "        \n",
    "    return x, logits, y_"
   ]
  },
  {
   "cell_type": "code",
   "execution_count": 16,
   "metadata": {},
   "outputs": [],
   "source": [
    "tf.reset_default_graph()\n",
    "\n",
    "x, logits, y_ = build_cnn(28, [32, 64], [1000], 10)\n",
    "\n",
    "loss = tf.losses.sparse_softmax_cross_entropy(labels=y_, logits=logits)\n",
    "train_op = tf.train.AdamOptimizer(1e-4).minimize(loss)\n",
    "\n",
    "prediction = tf.argmax(logits, 1)\n",
    "accuracy = tf.reduce_mean(tf.cast(tf.equal(prediction, y_), tf.float32))"
   ]
  },
  {
   "cell_type": "code",
   "execution_count": 18,
   "metadata": {},
   "outputs": [
    {
     "name": "stdout",
     "output_type": "stream",
     "text": [
      "Step 1 (0.105s), loss: 4266859.5, test accuracy: 0.08940000087022781 \t \n",
      "Step 100 (265.081s), loss: 13.829000473022461, test accuracy: 0.9775000214576721 \t \n",
      "Step 200 (262.959s), loss: 0.0, test accuracy: 0.9817000031471252 \t \n",
      "Step 300 (215.776s), loss: 0.0, test accuracy: 0.9817000031471252 \t \n"
     ]
    }
   ],
   "source": [
    "sess = tf.Session()\n",
    "writer = tf.summary.FileWriter(\"mnist_cnn_raw\")\n",
    "\n",
    "writer.add_graph(sess.graph)\n",
    "\n",
    "sess.run(tf.global_variables_initializer())\n",
    "\n",
    "start_time = time.time()\n",
    "for step in range(300):\n",
    "    if (step + 1) % 100 == 0 or step == 0:\n",
    "        test_accuracy = sess.run(accuracy, feed_dict={x: test_x, y_: test_y})\n",
    "        sample = np.random.choice(len(train_x), 1000, replace=False)\n",
    "        train_loss = sess.run(loss, feed_dict={x: train_x[sample], y_: train_y[sample]})\n",
    "        \n",
    "        writer.add_summary(tf.Summary(value=[tf.Summary.Value(tag=\"test_accuracy\", simple_value=test_accuracy),\n",
    "                                             tf.Summary.Value(tag=\"train_loss\", simple_value=train_loss)]),\n",
    "                           step)\n",
    "        \n",
    "        dtime = time.time() - start_time\n",
    "        start_time = time.time()\n",
    "        print(\"Step {} ({:.3f}s), loss: {}, test accuracy: {} \\t \".format(\n",
    "                step+1, dtime, train_loss, test_accuracy))\n",
    "        \n",
    "    train_data_batches = data_batches(train_x, train_y, batch_size=128, shuffle=True)\n",
    "    for batch_x, batch_y in train_data_batches:\n",
    "        sess.run(train_op, feed_dict={x: batch_x, y_: batch_y})\n",
    "        \n",
    "writer.close()"
   ]
  },
  {
   "cell_type": "code",
   "execution_count": 21,
   "metadata": {},
   "outputs": [
    {
     "data": {
      "image/png": "[encoded data removed]",
      "text/plain": [
       "<Figure size 432x288 with 25 Axes>"
      ]
     },
     "metadata": {},
     "output_type": "display_data"
    },
    {
     "name": "stdout",
     "output_type": "stream",
     "text": [
      "[[7 2 1 0 4]\n",
      " [1 4 9 5 9]\n",
      " [0 6 9 0 1]\n",
      " [5 9 7 8 4]\n",
      " [9 6 6 5 4]]\n"
     ]
    }
   ],
   "source": [
    "nx, ny = 5, 5\n",
    "fig, ax = plt.subplots(ny, nx)\n",
    "fig.subplots_adjust(wspace=-0.7, hspace=0.1)\n",
    "for i in range(ny):\n",
    "    for j in range(nx):\n",
    "        ax[i][j].imshow(test_x[ny*i+j], cmap='gray')\n",
    "        ax[i][j].axis('off')\n",
    "\n",
    "plt.show()   \n",
    "\n",
    "predicted = sess.run(prediction, feed_dict={x: test_x[:nx*ny]})\n",
    "print(np.reshape(predicted, [nx, ny]))"
   ]
  },
  {
   "cell_type": "code",
   "execution_count": 11,
   "metadata": {},
   "outputs": [],
   "source": [
    "sess.close()"
   ]
  },
  {
   "cell_type": "markdown",
   "metadata": {},
   "source": [
    "### Dense Neural Network with `Estimator`"
   ]
  },
  {
   "cell_type": "code",
   "execution_count": 20,
   "metadata": {},
   "outputs": [],
   "source": [
    "feature_columns = [tf.feature_column.numeric_column(key='x', shape=(28, 28))]"
   ]
  },
  {
   "cell_type": "code",
   "execution_count": 21,
   "metadata": {},
   "outputs": [
    {
     "name": "stdout",
     "output_type": "stream",
     "text": [
      "INFO:tensorflow:Using default config.\n",
      "INFO:tensorflow:Using config: {'_model_dir': 'mnist_dnn_estimator', '_tf_random_seed': None, '_save_summary_steps': 100, '_save_checkpoints_steps': None, '_save_checkpoints_secs': 600, '_session_config': None, '_keep_checkpoint_max': 5, '_keep_checkpoint_every_n_hours': 10000, '_log_step_count_steps': 100, '_train_distribute': None, '_service': None, '_cluster_spec': <tensorflow.python.training.server_lib.ClusterSpec object at 0x1373dbf60>, '_task_type': 'worker', '_task_id': 0, '_global_id_in_cluster': 0, '_master': '', '_evaluation_master': '', '_is_chief': True, '_num_ps_replicas': 0, '_num_worker_replicas': 1}\n"
     ]
    }
   ],
   "source": [
    "mnist_dnn_classifier = tf.estimator.DNNClassifier(\n",
    "                        feature_columns=feature_columns,\n",
    "                        hidden_units=[2000, 200],\n",
    "                        n_classes=10,\n",
    "                        model_dir=\"mnist_dnn_estimator\")"
   ]
  },
  {
   "cell_type": "code",
   "execution_count": 22,
   "metadata": {},
   "outputs": [],
   "source": [
    "def train_input_fn(features:dict, labels, batch_size):\n",
    "    dataset = tf.data.Dataset.from_tensor_slices((features, labels))\n",
    "    dataset = dataset.shuffle(1000).repeat().batch(batch_size)\n",
    "    return dataset.make_one_shot_iterator().get_next()"
   ]
  },
  {
   "cell_type": "code",
   "execution_count": 23,
   "metadata": {},
   "outputs": [],
   "source": [
    "def eval_input_fn(features:dict, labels, batch_size):\n",
    "    if labels is None:\n",
    "        return tf.data.Dataset.from_tensor_slices(features).batch(batch_size)\n",
    "    \n",
    "    return tf.data.Dataset.from_tensor_slices((features, labels)).batch(batch_size)"
   ]
  },
  {
   "cell_type": "code",
   "execution_count": 24,
   "metadata": {},
   "outputs": [
    {
     "name": "stdout",
     "output_type": "stream",
     "text": [
      "INFO:tensorflow:Calling model_fn.\n",
      "INFO:tensorflow:Done calling model_fn.\n",
      "INFO:tensorflow:Create CheckpointSaverHook.\n",
      "INFO:tensorflow:Graph was finalized.\n",
      "INFO:tensorflow:Restoring parameters from mnist_dnn_estimator/model.ckpt-2000\n",
      "INFO:tensorflow:Running local_init_op.\n",
      "INFO:tensorflow:Done running local_init_op.\n",
      "INFO:tensorflow:Saving checkpoints for 2001 into mnist_dnn_estimator/model.ckpt.\n",
      "INFO:tensorflow:loss = 15.752353, step = 2001\n",
      "INFO:tensorflow:global_step/sec: 11.4869\n",
      "INFO:tensorflow:loss = 20.943468, step = 2101 (8.702 sec)\n",
      "INFO:tensorflow:global_step/sec: 92.3036\n",
      "INFO:tensorflow:loss = 13.359367, step = 2201 (1.082 sec)\n",
      "INFO:tensorflow:global_step/sec: 93.994\n",
      "INFO:tensorflow:loss = 31.687553, step = 2301 (1.064 sec)\n",
      "INFO:tensorflow:global_step/sec: 80.8965\n",
      "INFO:tensorflow:loss = 7.642435, step = 2401 (1.236 sec)\n",
      "INFO:tensorflow:Saving checkpoints for 2500 into mnist_dnn_estimator/model.ckpt.\n",
      "INFO:tensorflow:Loss for final step: 21.072796.\n"
     ]
    },
    {
     "data": {
      "text/plain": [
       "<tensorflow.python.estimator.canned.dnn.DNNClassifier at 0x1373dbe80>"
      ]
     },
     "execution_count": 24,
     "metadata": {},
     "output_type": "execute_result"
    }
   ],
   "source": [
    "mnist_dnn_classifier.train(input_fn=lambda: train_input_fn({\"x\": train_x}, train_y, 64), steps=500)"
   ]
  },
  {
   "cell_type": "code",
   "execution_count": 30,
   "metadata": {},
   "outputs": [
    {
     "name": "stdout",
     "output_type": "stream",
     "text": [
      "INFO:tensorflow:Calling model_fn.\n",
      "INFO:tensorflow:Done calling model_fn.\n",
      "INFO:tensorflow:Starting evaluation at 2018-05-23-07:25:29\n",
      "INFO:tensorflow:Graph was finalized.\n",
      "INFO:tensorflow:Restoring parameters from mnist_convnet_model/model.ckpt-8000\n",
      "INFO:tensorflow:Running local_init_op.\n",
      "INFO:tensorflow:Done running local_init_op.\n",
      "INFO:tensorflow:Finished evaluation at 2018-05-23-07:25:32\n",
      "INFO:tensorflow:Saving dict for global step 8000: accuracy = 0.9874, global_step = 8000, loss = 0.037221294\n"
     ]
    }
   ],
   "source": [
    "eval_results = mnist_classifier.evaluate(input_fn=lambda: eval_input_fn({\"x\": test_x}, test_y, batch_size=64))"
   ]
  },
  {
   "cell_type": "code",
   "execution_count": 31,
   "metadata": {},
   "outputs": [
    {
     "name": "stdout",
     "output_type": "stream",
     "text": [
      "{'accuracy': 0.9874, 'loss': 0.037221294, 'global_step': 8000}\n"
     ]
    }
   ],
   "source": [
    "print(eval_results)"
   ]
  },
  {
   "cell_type": "code",
   "execution_count": 37,
   "metadata": {},
   "outputs": [],
   "source": [
    "predicted = mnist_dnn_classifier.predict(input_fn=lambda: eval_input_fn({\"x\": test_x[:nx*ny]}, test_y[:nx*ny], 64))"
   ]
  },
  {
   "cell_type": "code",
   "execution_count": 38,
   "metadata": {},
   "outputs": [
    {
     "name": "stdout",
     "output_type": "stream",
     "text": [
      "INFO:tensorflow:Calling model_fn.\n",
      "INFO:tensorflow:Done calling model_fn.\n",
      "INFO:tensorflow:Graph was finalized.\n",
      "INFO:tensorflow:Restoring parameters from mnist_dnn_estimator/model.ckpt-2000\n",
      "INFO:tensorflow:Running local_init_op.\n",
      "INFO:tensorflow:Done running local_init_op.\n"
     ]
    }
   ],
   "source": [
    "predicted_ids = [p['class_ids'][0] for p in predicted]"
   ]
  },
  {
   "cell_type": "code",
   "execution_count": 40,
   "metadata": {},
   "outputs": [
    {
     "data": {
      "image/png": "[encoded data removed]",
      "text/plain": [
       "<Figure size 432x288 with 25 Axes>"
      ]
     },
     "metadata": {},
     "output_type": "display_data"
    },
    {
     "name": "stdout",
     "output_type": "stream",
     "text": [
      "[[7 2 1 0 4]\n",
      " [1 4 9 6 9]\n",
      " [0 6 9 0 1]\n",
      " [5 9 7 8 4]\n",
      " [9 6 6 5 4]]\n"
     ]
    }
   ],
   "source": [
    "nx, ny = 5, 5\n",
    "fig, ax = plt.subplots(ny, nx)\n",
    "fig.subplots_adjust(wspace=-0.7, hspace=0.1)\n",
    "for i in range(ny):\n",
    "    for j in range(nx):\n",
    "        ax[i][j].imshow(test_x[ny*i+j], cmap='gray')\n",
    "        ax[i][j].axis('off')\n",
    "\n",
    "plt.show()   \n",
    "\n",
    "print(np.reshape(predicted_ids, [nx, ny]))"
   ]
  },
  {
   "cell_type": "markdown",
   "metadata": {},
   "source": [
    "### CNN model with custom `Estimator`"
   ]
  },
  {
   "cell_type": "code",
   "execution_count": 27,
   "metadata": {},
   "outputs": [],
   "source": [
    "def cnn_model_fn(features, labels, mode):\n",
    "    \"\"\"Model function for CNN.\"\"\"\n",
    "    # Input Layer\n",
    "    input_layer = tf.reshape(features['x'], [-1, 28, 28, 1])\n",
    "    \n",
    "    # Convolutional Layer #1\n",
    "    conv1 = tf.layers.conv2d(\n",
    "                inputs=input_layer,\n",
    "                filters=32,\n",
    "                kernel_size=[5, 5],\n",
    "                padding=\"same\",\n",
    "                activation=tf.nn.relu)\n",
    "    \n",
    "    # Pooling Layer #1\n",
    "    pool1 = tf.layers.max_pooling2d(inputs=conv1, pool_size=[2, 2], strides=2)\n",
    "    \n",
    "    # Convolutional Layer #2 and Pooling Layer #2\n",
    "    conv2 = tf.layers.conv2d(\n",
    "                inputs=pool1,\n",
    "                filters=64,\n",
    "                kernel_size=[5, 5],\n",
    "                padding=\"same\",\n",
    "                activation=tf.nn.relu)\n",
    "    \n",
    "    # Pooling Layer #2\n",
    "    pool2 = tf.layers.max_pooling2d(inputs=conv2, pool_size=[2, 2], strides=2)\n",
    "    \n",
    "    # Dense Layer\n",
    "    pool2_flat = tf.reshape(pool2, [-1, 7 * 7 * 64])\n",
    "    dense = tf.layers.dense(inputs=pool2_flat, units=1024, activation=tf.nn.relu)\n",
    "    dropout = tf.layers.dropout(\n",
    "                inputs=dense, rate=0.4, training=(mode == tf.estimator.ModeKeys.TRAIN))\n",
    "    \n",
    "    # Logits Layer\n",
    "    logits = tf.layers.dense(inputs=dropout, units=10)\n",
    "    \n",
    "    predictions = {\n",
    "        # Generate predictions (for PREDICT and EVAL mode)\n",
    "        \"classes\": tf.argmax(input=logits, axis=1),\n",
    "        # Add `softmax_tensor` to the graph. It is used for PREDICT  and by the `logging_hook`.\n",
    "        \"probabilities\": tf.nn.softmax(logits, name=\"softmax_tensor\")\n",
    "    }\n",
    "    \n",
    "    if mode == tf.estimator.ModeKeys.PREDICT:\n",
    "        return tf.estimator.EstimatorSpec(mode=mode, predictions=predictions)\n",
    "    \n",
    "    # `sparse_softmax_cross_entropy` takes class number as label\n",
    "    # `softmax_cross_entropy` takes onehot vector as label\n",
    "    loss = tf.losses.sparse_softmax_cross_entropy(labels=labels, logits=logits)\n",
    "    \n",
    "    if mode == tf.estimator.ModeKeys.TRAIN:\n",
    "        optimizer = tf.train.GradientDescentOptimizer(learning_rate=0.001)\n",
    "        train_op = optimizer.minimize(\n",
    "                    loss=loss,\n",
    "                    global_step=tf.train.get_global_step())\n",
    "        return tf.estimator.EstimatorSpec(mode=mode, loss=loss, train_op=train_op)\n",
    "    \n",
    "    eval_metric_ops = {\n",
    "        \"accuracy\": tf.metrics.accuracy(\n",
    "                        labels=labels, predictions=predictions[\"classes\"])}\n",
    "    return tf.estimator.EstimatorSpec(\n",
    "                mode=mode, loss=loss, eval_metric_ops=eval_metric_ops)"
   ]
  },
  {
   "cell_type": "code",
   "execution_count": 28,
   "metadata": {},
   "outputs": [
    {
     "name": "stdout",
     "output_type": "stream",
     "text": [
      "INFO:tensorflow:Using default config.\n",
      "INFO:tensorflow:Using config: {'_model_dir': 'mnist_convnet_model', '_tf_random_seed': None, '_save_summary_steps': 100, '_save_checkpoints_steps': None, '_save_checkpoints_secs': 600, '_session_config': None, '_keep_checkpoint_max': 5, '_keep_checkpoint_every_n_hours': 10000, '_log_step_count_steps': 100, '_train_distribute': None, '_service': None, '_cluster_spec': <tensorflow.python.training.server_lib.ClusterSpec object at 0x7fbfec70f588>, '_task_type': 'worker', '_task_id': 0, '_global_id_in_cluster': 0, '_master': '', '_evaluation_master': '', '_is_chief': True, '_num_ps_replicas': 0, '_num_worker_replicas': 1}\n"
     ]
    }
   ],
   "source": [
    "mnist_classifier = tf.estimator.Estimator(\n",
    "                        model_fn=cnn_model_fn, model_dir=\"mnist_convnet_model\")"
   ]
  },
  {
   "cell_type": "code",
   "execution_count": 29,
   "metadata": {},
   "outputs": [
    {
     "name": "stdout",
     "output_type": "stream",
     "text": [
      "INFO:tensorflow:Calling model_fn.\n",
      "INFO:tensorflow:Done calling model_fn.\n",
      "INFO:tensorflow:Create CheckpointSaverHook.\n",
      "INFO:tensorflow:Graph was finalized.\n",
      "INFO:tensorflow:Restoring parameters from mnist_convnet_model/model.ckpt-6000\n",
      "INFO:tensorflow:Running local_init_op.\n",
      "INFO:tensorflow:Done running local_init_op.\n",
      "INFO:tensorflow:Saving checkpoints for 6001 into mnist_convnet_model/model.ckpt.\n",
      "INFO:tensorflow:loss = 0.01898283138871193, step = 6000\n",
      "INFO:tensorflow:global_step/sec: 26.7322\n",
      "INFO:tensorflow:loss = 0.10859496891498566, step = 6100 (3.553 sec)\n",
      "INFO:tensorflow:global_step/sec: 25.2511\n",
      "INFO:tensorflow:loss = 0.12122948467731476, step = 6200 (3.958 sec)\n",
      "INFO:tensorflow:global_step/sec: 29.0859\n",
      "INFO:tensorflow:loss = 0.024764500558376312, step = 6300 (3.438 sec)\n",
      "INFO:tensorflow:global_step/sec: 29.1064\n",
      "INFO:tensorflow:loss = 0.019666021689772606, step = 6400 (3.435 sec)\n",
      "INFO:tensorflow:global_step/sec: 29.1244\n",
      "INFO:tensorflow:loss = 0.05532953143119812, step = 6500 (3.434 sec)\n",
      "INFO:tensorflow:global_step/sec: 29.1754\n",
      "INFO:tensorflow:loss = 0.029706072062253952, step = 6600 (3.429 sec)\n",
      "INFO:tensorflow:global_step/sec: 29.1129\n",
      "INFO:tensorflow:loss = 0.05706895887851715, step = 6700 (3.434 sec)\n",
      "INFO:tensorflow:global_step/sec: 29.2376\n",
      "INFO:tensorflow:loss = 0.03577258437871933, step = 6800 (3.420 sec)\n",
      "INFO:tensorflow:global_step/sec: 28.675\n",
      "INFO:tensorflow:loss = 0.03841254860162735, step = 6900 (3.487 sec)\n",
      "INFO:tensorflow:global_step/sec: 28.6952\n",
      "INFO:tensorflow:loss = 0.068491131067276, step = 7000 (3.486 sec)\n",
      "INFO:tensorflow:global_step/sec: 27.9511\n",
      "INFO:tensorflow:loss = 0.12481214851140976, step = 7100 (3.577 sec)\n",
      "INFO:tensorflow:global_step/sec: 29.1971\n",
      "INFO:tensorflow:loss = 0.024565527215600014, step = 7200 (3.425 sec)\n",
      "INFO:tensorflow:global_step/sec: 28.9597\n",
      "INFO:tensorflow:loss = 0.06875807046890259, step = 7300 (3.453 sec)\n",
      "INFO:tensorflow:global_step/sec: 29.003\n",
      "INFO:tensorflow:loss = 0.05017871782183647, step = 7400 (3.448 sec)\n",
      "INFO:tensorflow:global_step/sec: 27.4724\n",
      "INFO:tensorflow:loss = 0.04060995578765869, step = 7500 (3.640 sec)\n",
      "INFO:tensorflow:global_step/sec: 26.9031\n",
      "INFO:tensorflow:loss = 0.13093562424182892, step = 7600 (3.717 sec)\n",
      "INFO:tensorflow:global_step/sec: 27.7238\n",
      "INFO:tensorflow:loss = 0.10324673354625702, step = 7700 (3.607 sec)\n",
      "INFO:tensorflow:global_step/sec: 28.3293\n",
      "INFO:tensorflow:loss = 0.06194571405649185, step = 7800 (3.530 sec)\n",
      "INFO:tensorflow:global_step/sec: 27.8633\n",
      "INFO:tensorflow:loss = 0.021466495469212532, step = 7900 (3.589 sec)\n",
      "INFO:tensorflow:Saving checkpoints for 8000 into mnist_convnet_model/model.ckpt.\n",
      "INFO:tensorflow:Loss for final step: 0.06745322048664093.\n"
     ]
    },
    {
     "data": {
      "text/plain": [
       "<tensorflow.python.estimator.estimator.Estimator at 0x7fc00871cbe0>"
      ]
     },
     "execution_count": 29,
     "metadata": {},
     "output_type": "execute_result"
    }
   ],
   "source": [
    "mnist_classifier.train(\n",
    "    input_fn=lambda: train_input_fn({\"x\": train_x}, train_y, batch_size=64),\n",
    "    steps=2000)"
   ]
  },
  {
   "cell_type": "code",
   "execution_count": 30,
   "metadata": {},
   "outputs": [
    {
     "name": "stdout",
     "output_type": "stream",
     "text": [
      "INFO:tensorflow:Calling model_fn.\n",
      "INFO:tensorflow:Done calling model_fn.\n",
      "INFO:tensorflow:Starting evaluation at 2018-05-23-07:25:29\n",
      "INFO:tensorflow:Graph was finalized.\n",
      "INFO:tensorflow:Restoring parameters from mnist_convnet_model/model.ckpt-8000\n",
      "INFO:tensorflow:Running local_init_op.\n",
      "INFO:tensorflow:Done running local_init_op.\n",
      "INFO:tensorflow:Finished evaluation at 2018-05-23-07:25:32\n",
      "INFO:tensorflow:Saving dict for global step 8000: accuracy = 0.9874, global_step = 8000, loss = 0.037221294\n"
     ]
    }
   ],
   "source": [
    "eval_results = mnist_classifier.evaluate(input_fn=lambda: eval_input_fn({\"x\": test_x}, test_y, batch_size=64))"
   ]
  },
  {
   "cell_type": "code",
   "execution_count": 31,
   "metadata": {},
   "outputs": [
    {
     "name": "stdout",
     "output_type": "stream",
     "text": [
      "{'accuracy': 0.9874, 'loss': 0.037221294, 'global_step': 8000}\n"
     ]
    }
   ],
   "source": [
    "print(eval_results)"
   ]
  },
  {
   "cell_type": "code",
   "execution_count": null,
   "metadata": {},
   "outputs": [],
   "source": []
  }
 ],
 "metadata": {
  "kernelspec": {
   "display_name": "Python 3",
   "language": "python",
   "name": "python3"
  },
  "language_info": {
   "codemirror_mode": {
    "name": "ipython",
    "version": 3
   },
   "file_extension": ".py",
   "mimetype": "text/x-python",
   "name": "python",
   "nbconvert_exporter": "python",
   "pygments_lexer": "ipython3",
   "version": "3.6.5"
  }
 },
 "nbformat": 4,
 "nbformat_minor": 2
}
